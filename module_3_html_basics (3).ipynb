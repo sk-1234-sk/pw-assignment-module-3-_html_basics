{
  "nbformat": 4,
  "nbformat_minor": 0,
  "metadata": {
    "colab": {
      "provenance": []
    },
    "kernelspec": {
      "name": "python3",
      "display_name": "Python 3"
    },
    "language_info": {
      "name": "python"
    }
  },
  "cells": [
    {
      "cell_type": "markdown",
      "source": [
        "#MODULE_3\n"
      ],
      "metadata": {
        "id": "sUz0X50SuOJq"
      }
    },
    {
      "cell_type": "markdown",
      "source": [
        "***1.  Write a simple program in HTML  that displays the heading \"HTML defines the content and structure of your website” on the web browser?***\n"
      ],
      "metadata": {
        "id": "8I9WDJb2uMjU"
      }
    },
    {
      "cell_type": "markdown",
      "source": [
        "\n",
        "\n",
        "```\n",
        "#Answer of Question no.1\n",
        "\n",
        "<!DOCTYPE html>\n",
        "    <html>\n",
        "    <head>\n",
        "      <title>simple html program</title>\n",
        "    </head>\n",
        "    <body>\n",
        "      <h1>HTML defines the content and structure of your website</h1>\n",
        "    </body>\n",
        "    </html>\n",
        "```\n",
        "\n"
      ],
      "metadata": {
        "id": "VQ4aS6Q9A1ij"
      }
    },
    {
      "cell_type": "markdown",
      "source": [
        "***2.  Explain the purpose of comments in HTML and provide an example of how to use comments in an HTML document?***\n",
        "\n",
        ""
      ],
      "metadata": {
        "id": "gdUHbRB6w4er"
      }
    },
    {
      "cell_type": "markdown",
      "source": [
        "\n",
        "\n",
        "```\n",
        "Comments are basically used to write non-executing code snippets or\n",
        "if we want to give/declare some extra information regarding a line of code or\n",
        " lines of code. Basically whatever is written within comments it won,t get\n",
        "  executed.\n",
        " Now, comments are of two types-single line and multiline comments.\n",
        " we can use comments with the following syntax:-\n",
        " **single line comments**\n",
        " <!-- it is a single line comment-->\n",
        "\n",
        " **Multi line comments**\n",
        " <!--\n",
        "    hey there!\n",
        "       it is\n",
        "          a multiline\n",
        "             comment-->\n",
        "\n",
        "\n",
        "```\n",
        "\n"
      ],
      "metadata": {
        "id": "jxYwuZjOAY6B"
      }
    },
    {
      "cell_type": "markdown",
      "source": [
        "***3.Write an HTML program that includes a heading, a paragraph of text, a horizontal line, and a line break.Arrange these elements to create a simple web page layout***"
      ],
      "metadata": {
        "id": "-MZJPgS_ybOu"
      }
    },
    {
      "cell_type": "markdown",
      "source": [
        "\n",
        "\n",
        "```\n",
        "<!DOCTYPE html>\n",
        "<html>\n",
        "<head>\n",
        "  <title>html program</title>\n",
        "</head>\n",
        "<body>\n",
        "  <hr><br>\n",
        "  <h1>ABOUT HTML</h1><br>\n",
        "  <hr>\n",
        "  <p>The full form of HTML is Hyper Text Markup Language.<br><hr>HTML can be\n",
        "  used to create webpages ,mainly the basic skeleton of webpage.</p><hr>\n",
        "</body>\n",
        "</html>\n",
        "```\n",
        "\n"
      ],
      "metadata": {
        "id": "9ccFUaRwABh6"
      }
    },
    {
      "cell_type": "markdown",
      "source": [
        "***4. Write a short note on Tag and element with an example***"
      ],
      "metadata": {
        "id": "E47N_9o_v7zG"
      }
    },
    {
      "cell_type": "markdown",
      "source": [
        "\n",
        "\n",
        "```\n",
        "Tags are basically responsible for the structure and layout of webpages.\n",
        "Tags can be of 2 types -\n",
        "i)self-closing tags (ex.- <img/> tag)\n",
        "(ii) Non self-closing tag(ex.-<p>.......</p>,<header>......</header> etc.\n",
        "\n",
        " - Elements comprise of a opening tag, content and a closing tag.\n",
        " for example,\n",
        "      .\n",
        "      .\n",
        "      .\n",
        "      <body>\n",
        "          <h1>ABOUT HTML</h1>\n",
        "      </body>\n",
        "      .\n",
        "      .\n",
        "      .\n",
        "      here, under the <body>..</body> tag,\n",
        "      <h1> is opening tag ,\"ABOUT HTML\" is the content and\n",
        "      </h1> is the closing tag.\n",
        "```\n",
        "\n"
      ],
      "metadata": {
        "id": "NF2hC_10AnKk"
      }
    },
    {
      "cell_type": "markdown",
      "source": [
        "***5.What is the DOCTYPE Declaration in HTML?***"
      ],
      "metadata": {
        "id": "VC7-4-Qttn4s"
      }
    },
    {
      "cell_type": "markdown",
      "source": [
        "  -  DOCTYPE declares the html5 document type,i.e. it declares that the document is a html5 document."
      ],
      "metadata": {
        "id": "VYqJWtti3NqL"
      }
    }
  ]
}