{
  "nbformat": 4,
  "nbformat_minor": 0,
  "metadata": {
    "colab": {
      "provenance": []
    },
    "kernelspec": {
      "name": "python3",
      "display_name": "Python 3"
    },
    "language_info": {
      "name": "python"
    }
  },
  "cells": [
    {
      "cell_type": "markdown",
      "source": [
        "#MODULE_3\n"
      ],
      "metadata": {
        "id": "sUz0X50SuOJq"
      }
    },
    {
      "cell_type": "markdown",
      "source": [
        "***1.  Write a simple program in HTML  that displays the heading \"HTML defines the content and structure of your website” on the web browser?***\n",
        "\n",
        " -\n"
      ],
      "metadata": {
        "id": "8I9WDJb2uMjU"
      }
    },
    {
      "cell_type": "code",
      "source": [
        "#Answer of Question no.1\n",
        "\n",
        "<!DOCTYPE html>\n",
        "    <html>\n",
        "    <head>\n",
        "      <title>simple html program</title>\n",
        "    </head>\n",
        "    <body>\n",
        "      <h1>HTML defines the content and structure of your website</h1>\n",
        "    </body>\n",
        "    </html>"
      ],
      "metadata": {
        "id": "rHq4nsMj0Zu2"
      },
      "execution_count": null,
      "outputs": []
    },
    {
      "cell_type": "markdown",
      "source": [
        "***2.  Explain the purpose of comments in HTML and provide an example of how to use comments in an HTML document?***\n",
        "\n",
        " -  Comments are basically used to write non-executing code snippets or if we want to give/declare some extra information regarding a line of code or lines of code. Basically whatever is written within comments it won,t get executed.\n",
        " Now, comments are of two types-single line and multiline comments. we can use comments with the following syntax:-\n",
        " **single line comments**\n",
        " <!-- it is a single line comment-->\n",
        "\n",
        " **Multi line comments**\n",
        " <!--\n",
        "    hey there!\n",
        "       it is\n",
        "          a multiline\n",
        "             comment-->\n",
        "\n"
      ],
      "metadata": {
        "id": "gdUHbRB6w4er"
      }
    },
    {
      "cell_type": "markdown",
      "source": [
        "***3.Write an HTML program that includes a heading, a paragraph of text, a horizontal line, and a line break.Arrange these elements to create a simple web page layout***"
      ],
      "metadata": {
        "id": "-MZJPgS_ybOu"
      }
    },
    {
      "cell_type": "code",
      "source": [
        "<!DOCTYPE html>\n",
        "<html>\n",
        "<head>\n",
        "  <title>html program</title>\n",
        "</head>\n",
        "<body>\n",
        "  <hr><br>\n",
        "  <h1>ABOUT HTML</h1><br>\n",
        "  <hr>\n",
        "  <p>The full form of HTML is Hyper Text Markup Language.<br><hr>HTML can be\n",
        "  used to create webpages ,mainly the basic skeleton of webpage.</p><br><hr>\n",
        "</body>\n",
        "</html>"
      ],
      "metadata": {
        "id": "y6Fx35-RywxY"
      },
      "execution_count": null,
      "outputs": []
    },
    {
      "cell_type": "markdown",
      "source": [
        "***4. Write a short note on Tag and element with an example***"
      ],
      "metadata": {
        "id": "E47N_9o_v7zG"
      }
    },
    {
      "cell_type": "markdown",
      "source": [
        "#Answer of question no. 4\n",
        " - Tags are basically responsible for the structure and layout of webpages.Tags can be of 2 types - i)self-closing tags (ex.- <img/> tag)\n",
        " (ii) Non self-closing tag(ex.-<p>.......</p>,<header>......</header> etc.\n",
        "\n",
        " - Elements comprise of a opening tag, content and a closing tag.\n",
        " for example,\n",
        "      .\n",
        "      .\n",
        "      .\n",
        "      <body>\n",
        "          <h1>ABOUT HTML</h1>\n",
        "      </body>\n",
        "      .\n",
        "      .\n",
        "      .\n",
        "      here, under the <body>..</body> tag, <h1> is opening tag ,\"ABOUT HTML\" is the content and </h1> is the closing tag."
      ],
      "metadata": {
        "id": "LfZFO99c0w0c"
      }
    },
    {
      "cell_type": "markdown",
      "source": [
        "***5.What is the DOCTYPE Declaration in HTML?***"
      ],
      "metadata": {
        "id": "VC7-4-Qttn4s"
      }
    },
    {
      "cell_type": "markdown",
      "source": [
        "  -  DOCTYPE declares the html5 document type,i.e. it declares that the document is a html5 document."
      ],
      "metadata": {
        "id": "VYqJWtti3NqL"
      }
    }
  ]
}